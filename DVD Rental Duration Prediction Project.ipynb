{
 "cells": [
  {
   "metadata": {},
   "cell_type": "markdown",
   "source": [
    "DVD Rental Duration Prediction Project\n",
    "----\n",
    "\n",
    "**Project Task**\n",
    "\n",
    "A DVD rental company wants to predict how many days a customer will keep a rented DVD.\n",
    "They have provided a dataset (`rental_info.csv`) with customer rental information and request that you:\n",
    "\n",
    "1. **Build regression models** to predict the rental duration (in days).\n",
    "2. **Preprocess the data**:\n",
    "\n",
    "   * Convert `rental_date` and `return_date` to datetime format.\n",
    "   * Calculate `rental_length_days` as the difference between return and rental dates.\n",
    "   * Create dummy variables for specific `special_features` (e.g., Deleted Scenes, Behind the Scenes).\n",
    "   * Drop unnecessary original columns.\n",
    "3. **Perform feature selection** using Lasso Regression.\n",
    "4. **Train and evaluate** the following models:\n",
    "\n",
    "   * Linear Regression (with Lasso-selected features)\n",
    "   * Decision Tree Regressor (all features)\n",
    "   * Random Forest Regressor (all features, with hyperparameter tuning via `RandomizedSearchCV`)\n",
    "5. **Measure performance** using Mean Squared Error (MSE) on the test set.\n",
    "6. **Select the best model**:\n",
    "\n",
    "   * The target is an MSE of **3 or less**.\n",
    "   * Print the MSE of each model and identify the best performer.\n",
    "\n",
    "**Dataset Features**\n",
    "The dataset contains:\n",
    "\n",
    "* Dates: `rental_date`, `return_date`\n",
    "* Payment info: `amount`, `amount_2`\n",
    "* Rental rate info: `rental_rate`, `rental_rate_2`\n",
    "* Movie details: `release_year`, `length`, `length_2`, `replacement_cost`, `special_features`\n",
    "* Rating dummies: `NC-17`, `PG`, `PG-13`, `R`\n",
    "\n",
    "The target variable is `rental_length_days`.\n",
    "\n",
    "---\n",
    "\n",
    "Do you want me to also rewrite it in a **short, single-paragraph format** so it’s easier to paste into a README?\n"
   ],
   "id": "c5bf0cc7e0ee4cd7"
  },
  {
   "cell_type": "code",
   "id": "initial_id",
   "metadata": {
    "collapsed": true,
    "ExecuteTime": {
     "end_time": "2025-08-11T22:10:51.971951Z",
     "start_time": "2025-08-11T22:10:46.603437Z"
    }
   },
   "source": [
    "#Importing necessary libraries\n",
    "import pandas as pd\n",
    "import numpy as np\n",
    "\n",
    "from sklearn.model_selection import train_test_split\n",
    "\n",
    "from sklearn.linear_model import LinearRegression, Lasso\n",
    "from sklearn.model_selection import RandomizedSearchCV\n",
    "from sklearn.ensemble import RandomForestRegressor\n",
    "from sklearn.tree import DecisionTreeRegressor\n",
    "from sklearn.metrics import mean_squared_error\n"
   ],
   "outputs": [],
   "execution_count": 2
  },
  {
   "metadata": {
    "ExecuteTime": {
     "end_time": "2025-08-11T22:10:52.189836Z",
     "start_time": "2025-08-11T22:10:52.064096Z"
    }
   },
   "cell_type": "code",
   "source": [
    "rental_df = pd.read_csv(r\"C:\\Users\\Emigb\\Documents\\Data Science\\datasets\\rental_info.csv\")\n",
    "rental_df.head()"
   ],
   "id": "4c634e3c80025e3",
   "outputs": [
    {
     "data": {
      "text/plain": [
       "                 rental_date                return_date  amount  release_year  \\\n",
       "0  2005-05-25 02:54:33+00:00  2005-05-28 23:40:33+00:00    2.99        2005.0   \n",
       "1  2005-06-15 23:19:16+00:00  2005-06-18 19:24:16+00:00    2.99        2005.0   \n",
       "2  2005-07-10 04:27:45+00:00  2005-07-17 10:11:45+00:00    2.99        2005.0   \n",
       "3  2005-07-31 12:06:41+00:00  2005-08-02 14:30:41+00:00    2.99        2005.0   \n",
       "4  2005-08-19 12:30:04+00:00  2005-08-23 13:35:04+00:00    2.99        2005.0   \n",
       "\n",
       "   rental_rate  length  replacement_cost                special_features  \\\n",
       "0         2.99   126.0             16.99  {Trailers,\"Behind the Scenes\"}   \n",
       "1         2.99   126.0             16.99  {Trailers,\"Behind the Scenes\"}   \n",
       "2         2.99   126.0             16.99  {Trailers,\"Behind the Scenes\"}   \n",
       "3         2.99   126.0             16.99  {Trailers,\"Behind the Scenes\"}   \n",
       "4         2.99   126.0             16.99  {Trailers,\"Behind the Scenes\"}   \n",
       "\n",
       "   NC-17  PG  PG-13  R  amount_2  length_2  rental_rate_2  \n",
       "0      0   0      0  1    8.9401   15876.0         8.9401  \n",
       "1      0   0      0  1    8.9401   15876.0         8.9401  \n",
       "2      0   0      0  1    8.9401   15876.0         8.9401  \n",
       "3      0   0      0  1    8.9401   15876.0         8.9401  \n",
       "4      0   0      0  1    8.9401   15876.0         8.9401  "
      ],
      "text/html": [
       "<div>\n",
       "<style scoped>\n",
       "    .dataframe tbody tr th:only-of-type {\n",
       "        vertical-align: middle;\n",
       "    }\n",
       "\n",
       "    .dataframe tbody tr th {\n",
       "        vertical-align: top;\n",
       "    }\n",
       "\n",
       "    .dataframe thead th {\n",
       "        text-align: right;\n",
       "    }\n",
       "</style>\n",
       "<table border=\"1\" class=\"dataframe\">\n",
       "  <thead>\n",
       "    <tr style=\"text-align: right;\">\n",
       "      <th></th>\n",
       "      <th>rental_date</th>\n",
       "      <th>return_date</th>\n",
       "      <th>amount</th>\n",
       "      <th>release_year</th>\n",
       "      <th>rental_rate</th>\n",
       "      <th>length</th>\n",
       "      <th>replacement_cost</th>\n",
       "      <th>special_features</th>\n",
       "      <th>NC-17</th>\n",
       "      <th>PG</th>\n",
       "      <th>PG-13</th>\n",
       "      <th>R</th>\n",
       "      <th>amount_2</th>\n",
       "      <th>length_2</th>\n",
       "      <th>rental_rate_2</th>\n",
       "    </tr>\n",
       "  </thead>\n",
       "  <tbody>\n",
       "    <tr>\n",
       "      <th>0</th>\n",
       "      <td>2005-05-25 02:54:33+00:00</td>\n",
       "      <td>2005-05-28 23:40:33+00:00</td>\n",
       "      <td>2.99</td>\n",
       "      <td>2005.0</td>\n",
       "      <td>2.99</td>\n",
       "      <td>126.0</td>\n",
       "      <td>16.99</td>\n",
       "      <td>{Trailers,\"Behind the Scenes\"}</td>\n",
       "      <td>0</td>\n",
       "      <td>0</td>\n",
       "      <td>0</td>\n",
       "      <td>1</td>\n",
       "      <td>8.9401</td>\n",
       "      <td>15876.0</td>\n",
       "      <td>8.9401</td>\n",
       "    </tr>\n",
       "    <tr>\n",
       "      <th>1</th>\n",
       "      <td>2005-06-15 23:19:16+00:00</td>\n",
       "      <td>2005-06-18 19:24:16+00:00</td>\n",
       "      <td>2.99</td>\n",
       "      <td>2005.0</td>\n",
       "      <td>2.99</td>\n",
       "      <td>126.0</td>\n",
       "      <td>16.99</td>\n",
       "      <td>{Trailers,\"Behind the Scenes\"}</td>\n",
       "      <td>0</td>\n",
       "      <td>0</td>\n",
       "      <td>0</td>\n",
       "      <td>1</td>\n",
       "      <td>8.9401</td>\n",
       "      <td>15876.0</td>\n",
       "      <td>8.9401</td>\n",
       "    </tr>\n",
       "    <tr>\n",
       "      <th>2</th>\n",
       "      <td>2005-07-10 04:27:45+00:00</td>\n",
       "      <td>2005-07-17 10:11:45+00:00</td>\n",
       "      <td>2.99</td>\n",
       "      <td>2005.0</td>\n",
       "      <td>2.99</td>\n",
       "      <td>126.0</td>\n",
       "      <td>16.99</td>\n",
       "      <td>{Trailers,\"Behind the Scenes\"}</td>\n",
       "      <td>0</td>\n",
       "      <td>0</td>\n",
       "      <td>0</td>\n",
       "      <td>1</td>\n",
       "      <td>8.9401</td>\n",
       "      <td>15876.0</td>\n",
       "      <td>8.9401</td>\n",
       "    </tr>\n",
       "    <tr>\n",
       "      <th>3</th>\n",
       "      <td>2005-07-31 12:06:41+00:00</td>\n",
       "      <td>2005-08-02 14:30:41+00:00</td>\n",
       "      <td>2.99</td>\n",
       "      <td>2005.0</td>\n",
       "      <td>2.99</td>\n",
       "      <td>126.0</td>\n",
       "      <td>16.99</td>\n",
       "      <td>{Trailers,\"Behind the Scenes\"}</td>\n",
       "      <td>0</td>\n",
       "      <td>0</td>\n",
       "      <td>0</td>\n",
       "      <td>1</td>\n",
       "      <td>8.9401</td>\n",
       "      <td>15876.0</td>\n",
       "      <td>8.9401</td>\n",
       "    </tr>\n",
       "    <tr>\n",
       "      <th>4</th>\n",
       "      <td>2005-08-19 12:30:04+00:00</td>\n",
       "      <td>2005-08-23 13:35:04+00:00</td>\n",
       "      <td>2.99</td>\n",
       "      <td>2005.0</td>\n",
       "      <td>2.99</td>\n",
       "      <td>126.0</td>\n",
       "      <td>16.99</td>\n",
       "      <td>{Trailers,\"Behind the Scenes\"}</td>\n",
       "      <td>0</td>\n",
       "      <td>0</td>\n",
       "      <td>0</td>\n",
       "      <td>1</td>\n",
       "      <td>8.9401</td>\n",
       "      <td>15876.0</td>\n",
       "      <td>8.9401</td>\n",
       "    </tr>\n",
       "  </tbody>\n",
       "</table>\n",
       "</div>"
      ]
     },
     "execution_count": 3,
     "metadata": {},
     "output_type": "execute_result"
    }
   ],
   "execution_count": 3
  },
  {
   "metadata": {
    "ExecuteTime": {
     "end_time": "2025-08-11T22:10:52.233164Z",
     "start_time": "2025-08-11T22:10:52.217442Z"
    }
   },
   "cell_type": "code",
   "source": "rental_df.isna().sum()",
   "id": "8ec41c24a5fe8a28",
   "outputs": [
    {
     "data": {
      "text/plain": [
       "rental_date         0\n",
       "return_date         0\n",
       "amount              0\n",
       "release_year        0\n",
       "rental_rate         0\n",
       "length              0\n",
       "replacement_cost    0\n",
       "special_features    0\n",
       "NC-17               0\n",
       "PG                  0\n",
       "PG-13               0\n",
       "R                   0\n",
       "amount_2            0\n",
       "length_2            0\n",
       "rental_rate_2       0\n",
       "dtype: int64"
      ]
     },
     "execution_count": 4,
     "metadata": {},
     "output_type": "execute_result"
    }
   ],
   "execution_count": 4
  },
  {
   "metadata": {
    "ExecuteTime": {
     "end_time": "2025-08-11T22:10:52.332644Z",
     "start_time": "2025-08-11T22:10:52.287852Z"
    }
   },
   "cell_type": "code",
   "source": "rental_df.info()",
   "id": "d6c197e98546fddb",
   "outputs": [
    {
     "name": "stdout",
     "output_type": "stream",
     "text": [
      "<class 'pandas.core.frame.DataFrame'>\n",
      "RangeIndex: 15861 entries, 0 to 15860\n",
      "Data columns (total 15 columns):\n",
      " #   Column            Non-Null Count  Dtype  \n",
      "---  ------            --------------  -----  \n",
      " 0   rental_date       15861 non-null  object \n",
      " 1   return_date       15861 non-null  object \n",
      " 2   amount            15861 non-null  float64\n",
      " 3   release_year      15861 non-null  float64\n",
      " 4   rental_rate       15861 non-null  float64\n",
      " 5   length            15861 non-null  float64\n",
      " 6   replacement_cost  15861 non-null  float64\n",
      " 7   special_features  15861 non-null  object \n",
      " 8   NC-17             15861 non-null  int64  \n",
      " 9   PG                15861 non-null  int64  \n",
      " 10  PG-13             15861 non-null  int64  \n",
      " 11  R                 15861 non-null  int64  \n",
      " 12  amount_2          15861 non-null  float64\n",
      " 13  length_2          15861 non-null  float64\n",
      " 14  rental_rate_2     15861 non-null  float64\n",
      "dtypes: float64(8), int64(4), object(3)\n",
      "memory usage: 1.8+ MB\n"
     ]
    }
   ],
   "execution_count": 5
  },
  {
   "metadata": {},
   "cell_type": "markdown",
   "source": [
    "Data Preprocessing\n",
    "----"
   ],
   "id": "f557b73ea1072b3c"
  },
  {
   "metadata": {},
   "cell_type": "markdown",
   "source": "Convert `rental_date` and `return_date` to datetime format.",
   "id": "80532c143566280f"
  },
  {
   "metadata": {
    "ExecuteTime": {
     "end_time": "2025-08-11T22:10:52.432999Z",
     "start_time": "2025-08-11T22:10:52.364068Z"
    }
   },
   "cell_type": "code",
   "source": [
    "#Converting columns to DateTime\n",
    "rental_df['rental_date'] = pd.to_datetime(rental_df['rental_date'])\n",
    "rental_df['return_date'] = pd.to_datetime(rental_df['return_date'])\n",
    "\n",
    "#Checking Datatypes to confirm change\n",
    "print(rental_df['return_date'].dtypes)\n",
    "print(rental_df['rental_date'].dtypes)"
   ],
   "id": "c4998cd6e3740e52",
   "outputs": [
    {
     "name": "stdout",
     "output_type": "stream",
     "text": [
      "datetime64[ns, UTC]\n",
      "datetime64[ns, UTC]\n"
     ]
    }
   ],
   "execution_count": 6
  },
  {
   "metadata": {},
   "cell_type": "markdown",
   "source": "Calculate `rental_length_days` as the difference between return and rental dates.",
   "id": "e7bfca6d5685510d"
  },
  {
   "metadata": {
    "ExecuteTime": {
     "end_time": "2025-08-11T22:10:52.481553Z",
     "start_time": "2025-08-11T22:10:52.444521Z"
    }
   },
   "cell_type": "code",
   "source": [
    "rental_df['rental_length_days'] = (rental_df['return_date'] - rental_df['rental_date']).dt.days\n",
    "\n",
    "rental_df.head()"
   ],
   "id": "65cf642ababff57",
   "outputs": [
    {
     "data": {
      "text/plain": [
       "                rental_date               return_date  amount  release_year  \\\n",
       "0 2005-05-25 02:54:33+00:00 2005-05-28 23:40:33+00:00    2.99        2005.0   \n",
       "1 2005-06-15 23:19:16+00:00 2005-06-18 19:24:16+00:00    2.99        2005.0   \n",
       "2 2005-07-10 04:27:45+00:00 2005-07-17 10:11:45+00:00    2.99        2005.0   \n",
       "3 2005-07-31 12:06:41+00:00 2005-08-02 14:30:41+00:00    2.99        2005.0   \n",
       "4 2005-08-19 12:30:04+00:00 2005-08-23 13:35:04+00:00    2.99        2005.0   \n",
       "\n",
       "   rental_rate  length  replacement_cost                special_features  \\\n",
       "0         2.99   126.0             16.99  {Trailers,\"Behind the Scenes\"}   \n",
       "1         2.99   126.0             16.99  {Trailers,\"Behind the Scenes\"}   \n",
       "2         2.99   126.0             16.99  {Trailers,\"Behind the Scenes\"}   \n",
       "3         2.99   126.0             16.99  {Trailers,\"Behind the Scenes\"}   \n",
       "4         2.99   126.0             16.99  {Trailers,\"Behind the Scenes\"}   \n",
       "\n",
       "   NC-17  PG  PG-13  R  amount_2  length_2  rental_rate_2  rental_length_days  \n",
       "0      0   0      0  1    8.9401   15876.0         8.9401                   3  \n",
       "1      0   0      0  1    8.9401   15876.0         8.9401                   2  \n",
       "2      0   0      0  1    8.9401   15876.0         8.9401                   7  \n",
       "3      0   0      0  1    8.9401   15876.0         8.9401                   2  \n",
       "4      0   0      0  1    8.9401   15876.0         8.9401                   4  "
      ],
      "text/html": [
       "<div>\n",
       "<style scoped>\n",
       "    .dataframe tbody tr th:only-of-type {\n",
       "        vertical-align: middle;\n",
       "    }\n",
       "\n",
       "    .dataframe tbody tr th {\n",
       "        vertical-align: top;\n",
       "    }\n",
       "\n",
       "    .dataframe thead th {\n",
       "        text-align: right;\n",
       "    }\n",
       "</style>\n",
       "<table border=\"1\" class=\"dataframe\">\n",
       "  <thead>\n",
       "    <tr style=\"text-align: right;\">\n",
       "      <th></th>\n",
       "      <th>rental_date</th>\n",
       "      <th>return_date</th>\n",
       "      <th>amount</th>\n",
       "      <th>release_year</th>\n",
       "      <th>rental_rate</th>\n",
       "      <th>length</th>\n",
       "      <th>replacement_cost</th>\n",
       "      <th>special_features</th>\n",
       "      <th>NC-17</th>\n",
       "      <th>PG</th>\n",
       "      <th>PG-13</th>\n",
       "      <th>R</th>\n",
       "      <th>amount_2</th>\n",
       "      <th>length_2</th>\n",
       "      <th>rental_rate_2</th>\n",
       "      <th>rental_length_days</th>\n",
       "    </tr>\n",
       "  </thead>\n",
       "  <tbody>\n",
       "    <tr>\n",
       "      <th>0</th>\n",
       "      <td>2005-05-25 02:54:33+00:00</td>\n",
       "      <td>2005-05-28 23:40:33+00:00</td>\n",
       "      <td>2.99</td>\n",
       "      <td>2005.0</td>\n",
       "      <td>2.99</td>\n",
       "      <td>126.0</td>\n",
       "      <td>16.99</td>\n",
       "      <td>{Trailers,\"Behind the Scenes\"}</td>\n",
       "      <td>0</td>\n",
       "      <td>0</td>\n",
       "      <td>0</td>\n",
       "      <td>1</td>\n",
       "      <td>8.9401</td>\n",
       "      <td>15876.0</td>\n",
       "      <td>8.9401</td>\n",
       "      <td>3</td>\n",
       "    </tr>\n",
       "    <tr>\n",
       "      <th>1</th>\n",
       "      <td>2005-06-15 23:19:16+00:00</td>\n",
       "      <td>2005-06-18 19:24:16+00:00</td>\n",
       "      <td>2.99</td>\n",
       "      <td>2005.0</td>\n",
       "      <td>2.99</td>\n",
       "      <td>126.0</td>\n",
       "      <td>16.99</td>\n",
       "      <td>{Trailers,\"Behind the Scenes\"}</td>\n",
       "      <td>0</td>\n",
       "      <td>0</td>\n",
       "      <td>0</td>\n",
       "      <td>1</td>\n",
       "      <td>8.9401</td>\n",
       "      <td>15876.0</td>\n",
       "      <td>8.9401</td>\n",
       "      <td>2</td>\n",
       "    </tr>\n",
       "    <tr>\n",
       "      <th>2</th>\n",
       "      <td>2005-07-10 04:27:45+00:00</td>\n",
       "      <td>2005-07-17 10:11:45+00:00</td>\n",
       "      <td>2.99</td>\n",
       "      <td>2005.0</td>\n",
       "      <td>2.99</td>\n",
       "      <td>126.0</td>\n",
       "      <td>16.99</td>\n",
       "      <td>{Trailers,\"Behind the Scenes\"}</td>\n",
       "      <td>0</td>\n",
       "      <td>0</td>\n",
       "      <td>0</td>\n",
       "      <td>1</td>\n",
       "      <td>8.9401</td>\n",
       "      <td>15876.0</td>\n",
       "      <td>8.9401</td>\n",
       "      <td>7</td>\n",
       "    </tr>\n",
       "    <tr>\n",
       "      <th>3</th>\n",
       "      <td>2005-07-31 12:06:41+00:00</td>\n",
       "      <td>2005-08-02 14:30:41+00:00</td>\n",
       "      <td>2.99</td>\n",
       "      <td>2005.0</td>\n",
       "      <td>2.99</td>\n",
       "      <td>126.0</td>\n",
       "      <td>16.99</td>\n",
       "      <td>{Trailers,\"Behind the Scenes\"}</td>\n",
       "      <td>0</td>\n",
       "      <td>0</td>\n",
       "      <td>0</td>\n",
       "      <td>1</td>\n",
       "      <td>8.9401</td>\n",
       "      <td>15876.0</td>\n",
       "      <td>8.9401</td>\n",
       "      <td>2</td>\n",
       "    </tr>\n",
       "    <tr>\n",
       "      <th>4</th>\n",
       "      <td>2005-08-19 12:30:04+00:00</td>\n",
       "      <td>2005-08-23 13:35:04+00:00</td>\n",
       "      <td>2.99</td>\n",
       "      <td>2005.0</td>\n",
       "      <td>2.99</td>\n",
       "      <td>126.0</td>\n",
       "      <td>16.99</td>\n",
       "      <td>{Trailers,\"Behind the Scenes\"}</td>\n",
       "      <td>0</td>\n",
       "      <td>0</td>\n",
       "      <td>0</td>\n",
       "      <td>1</td>\n",
       "      <td>8.9401</td>\n",
       "      <td>15876.0</td>\n",
       "      <td>8.9401</td>\n",
       "      <td>4</td>\n",
       "    </tr>\n",
       "  </tbody>\n",
       "</table>\n",
       "</div>"
      ]
     },
     "execution_count": 7,
     "metadata": {},
     "output_type": "execute_result"
    }
   ],
   "execution_count": 7
  },
  {
   "metadata": {},
   "cell_type": "markdown",
   "source": "Create dummy variables for specific `special_features` (e.g., Deleted Scenes, Behind the Scenes)",
   "id": "c9c82ab8d0e89e8b"
  },
  {
   "metadata": {
    "ExecuteTime": {
     "end_time": "2025-08-11T22:10:52.596055Z",
     "start_time": "2025-08-11T22:10:52.541121Z"
    }
   },
   "cell_type": "code",
   "source": [
    "rental_df[\"deleted_scenes\"] = np.where(rental_df[\"special_features\"].str.contains(\"Deleted Scenes\"), 1, 0)\n",
    "rental_df['behind_the_scene'] = np.where(rental_df['special_features'].str.contains(\"Behind the Scenes\"), 1,0)\n",
    "rental_df.head()"
   ],
   "id": "c0f3282c04821b66",
   "outputs": [
    {
     "data": {
      "text/plain": [
       "                rental_date               return_date  amount  release_year  \\\n",
       "0 2005-05-25 02:54:33+00:00 2005-05-28 23:40:33+00:00    2.99        2005.0   \n",
       "1 2005-06-15 23:19:16+00:00 2005-06-18 19:24:16+00:00    2.99        2005.0   \n",
       "2 2005-07-10 04:27:45+00:00 2005-07-17 10:11:45+00:00    2.99        2005.0   \n",
       "3 2005-07-31 12:06:41+00:00 2005-08-02 14:30:41+00:00    2.99        2005.0   \n",
       "4 2005-08-19 12:30:04+00:00 2005-08-23 13:35:04+00:00    2.99        2005.0   \n",
       "\n",
       "   rental_rate  length  replacement_cost                special_features  \\\n",
       "0         2.99   126.0             16.99  {Trailers,\"Behind the Scenes\"}   \n",
       "1         2.99   126.0             16.99  {Trailers,\"Behind the Scenes\"}   \n",
       "2         2.99   126.0             16.99  {Trailers,\"Behind the Scenes\"}   \n",
       "3         2.99   126.0             16.99  {Trailers,\"Behind the Scenes\"}   \n",
       "4         2.99   126.0             16.99  {Trailers,\"Behind the Scenes\"}   \n",
       "\n",
       "   NC-17  PG  PG-13  R  amount_2  length_2  rental_rate_2  rental_length_days  \\\n",
       "0      0   0      0  1    8.9401   15876.0         8.9401                   3   \n",
       "1      0   0      0  1    8.9401   15876.0         8.9401                   2   \n",
       "2      0   0      0  1    8.9401   15876.0         8.9401                   7   \n",
       "3      0   0      0  1    8.9401   15876.0         8.9401                   2   \n",
       "4      0   0      0  1    8.9401   15876.0         8.9401                   4   \n",
       "\n",
       "   deleted_scenes  behind_the_scene  \n",
       "0               0                 1  \n",
       "1               0                 1  \n",
       "2               0                 1  \n",
       "3               0                 1  \n",
       "4               0                 1  "
      ],
      "text/html": [
       "<div>\n",
       "<style scoped>\n",
       "    .dataframe tbody tr th:only-of-type {\n",
       "        vertical-align: middle;\n",
       "    }\n",
       "\n",
       "    .dataframe tbody tr th {\n",
       "        vertical-align: top;\n",
       "    }\n",
       "\n",
       "    .dataframe thead th {\n",
       "        text-align: right;\n",
       "    }\n",
       "</style>\n",
       "<table border=\"1\" class=\"dataframe\">\n",
       "  <thead>\n",
       "    <tr style=\"text-align: right;\">\n",
       "      <th></th>\n",
       "      <th>rental_date</th>\n",
       "      <th>return_date</th>\n",
       "      <th>amount</th>\n",
       "      <th>release_year</th>\n",
       "      <th>rental_rate</th>\n",
       "      <th>length</th>\n",
       "      <th>replacement_cost</th>\n",
       "      <th>special_features</th>\n",
       "      <th>NC-17</th>\n",
       "      <th>PG</th>\n",
       "      <th>PG-13</th>\n",
       "      <th>R</th>\n",
       "      <th>amount_2</th>\n",
       "      <th>length_2</th>\n",
       "      <th>rental_rate_2</th>\n",
       "      <th>rental_length_days</th>\n",
       "      <th>deleted_scenes</th>\n",
       "      <th>behind_the_scene</th>\n",
       "    </tr>\n",
       "  </thead>\n",
       "  <tbody>\n",
       "    <tr>\n",
       "      <th>0</th>\n",
       "      <td>2005-05-25 02:54:33+00:00</td>\n",
       "      <td>2005-05-28 23:40:33+00:00</td>\n",
       "      <td>2.99</td>\n",
       "      <td>2005.0</td>\n",
       "      <td>2.99</td>\n",
       "      <td>126.0</td>\n",
       "      <td>16.99</td>\n",
       "      <td>{Trailers,\"Behind the Scenes\"}</td>\n",
       "      <td>0</td>\n",
       "      <td>0</td>\n",
       "      <td>0</td>\n",
       "      <td>1</td>\n",
       "      <td>8.9401</td>\n",
       "      <td>15876.0</td>\n",
       "      <td>8.9401</td>\n",
       "      <td>3</td>\n",
       "      <td>0</td>\n",
       "      <td>1</td>\n",
       "    </tr>\n",
       "    <tr>\n",
       "      <th>1</th>\n",
       "      <td>2005-06-15 23:19:16+00:00</td>\n",
       "      <td>2005-06-18 19:24:16+00:00</td>\n",
       "      <td>2.99</td>\n",
       "      <td>2005.0</td>\n",
       "      <td>2.99</td>\n",
       "      <td>126.0</td>\n",
       "      <td>16.99</td>\n",
       "      <td>{Trailers,\"Behind the Scenes\"}</td>\n",
       "      <td>0</td>\n",
       "      <td>0</td>\n",
       "      <td>0</td>\n",
       "      <td>1</td>\n",
       "      <td>8.9401</td>\n",
       "      <td>15876.0</td>\n",
       "      <td>8.9401</td>\n",
       "      <td>2</td>\n",
       "      <td>0</td>\n",
       "      <td>1</td>\n",
       "    </tr>\n",
       "    <tr>\n",
       "      <th>2</th>\n",
       "      <td>2005-07-10 04:27:45+00:00</td>\n",
       "      <td>2005-07-17 10:11:45+00:00</td>\n",
       "      <td>2.99</td>\n",
       "      <td>2005.0</td>\n",
       "      <td>2.99</td>\n",
       "      <td>126.0</td>\n",
       "      <td>16.99</td>\n",
       "      <td>{Trailers,\"Behind the Scenes\"}</td>\n",
       "      <td>0</td>\n",
       "      <td>0</td>\n",
       "      <td>0</td>\n",
       "      <td>1</td>\n",
       "      <td>8.9401</td>\n",
       "      <td>15876.0</td>\n",
       "      <td>8.9401</td>\n",
       "      <td>7</td>\n",
       "      <td>0</td>\n",
       "      <td>1</td>\n",
       "    </tr>\n",
       "    <tr>\n",
       "      <th>3</th>\n",
       "      <td>2005-07-31 12:06:41+00:00</td>\n",
       "      <td>2005-08-02 14:30:41+00:00</td>\n",
       "      <td>2.99</td>\n",
       "      <td>2005.0</td>\n",
       "      <td>2.99</td>\n",
       "      <td>126.0</td>\n",
       "      <td>16.99</td>\n",
       "      <td>{Trailers,\"Behind the Scenes\"}</td>\n",
       "      <td>0</td>\n",
       "      <td>0</td>\n",
       "      <td>0</td>\n",
       "      <td>1</td>\n",
       "      <td>8.9401</td>\n",
       "      <td>15876.0</td>\n",
       "      <td>8.9401</td>\n",
       "      <td>2</td>\n",
       "      <td>0</td>\n",
       "      <td>1</td>\n",
       "    </tr>\n",
       "    <tr>\n",
       "      <th>4</th>\n",
       "      <td>2005-08-19 12:30:04+00:00</td>\n",
       "      <td>2005-08-23 13:35:04+00:00</td>\n",
       "      <td>2.99</td>\n",
       "      <td>2005.0</td>\n",
       "      <td>2.99</td>\n",
       "      <td>126.0</td>\n",
       "      <td>16.99</td>\n",
       "      <td>{Trailers,\"Behind the Scenes\"}</td>\n",
       "      <td>0</td>\n",
       "      <td>0</td>\n",
       "      <td>0</td>\n",
       "      <td>1</td>\n",
       "      <td>8.9401</td>\n",
       "      <td>15876.0</td>\n",
       "      <td>8.9401</td>\n",
       "      <td>4</td>\n",
       "      <td>0</td>\n",
       "      <td>1</td>\n",
       "    </tr>\n",
       "  </tbody>\n",
       "</table>\n",
       "</div>"
      ]
     },
     "execution_count": 8,
     "metadata": {},
     "output_type": "execute_result"
    }
   ],
   "execution_count": 8
  },
  {
   "metadata": {
    "ExecuteTime": {
     "end_time": "2025-08-11T22:10:52.615661Z",
     "start_time": "2025-08-11T22:10:52.608259Z"
    }
   },
   "cell_type": "code",
   "source": "rental_df.shape",
   "id": "a76f89b3e5f165e4",
   "outputs": [
    {
     "data": {
      "text/plain": [
       "(15861, 18)"
      ]
     },
     "execution_count": 9,
     "metadata": {},
     "output_type": "execute_result"
    }
   ],
   "execution_count": 9
  },
  {
   "metadata": {},
   "cell_type": "markdown",
   "source": "Drop unnecessary original columns.",
   "id": "13f46b32b904ced9"
  },
  {
   "metadata": {
    "ExecuteTime": {
     "end_time": "2025-08-11T22:10:52.691627Z",
     "start_time": "2025-08-11T22:10:52.663383Z"
    }
   },
   "cell_type": "code",
   "source": [
    "rental_df.drop(columns = ['rental_date', 'return_date', 'special_features'], inplace=True)\n",
    "rental_df.head()"
   ],
   "id": "434a09d0ecf3b096",
   "outputs": [
    {
     "data": {
      "text/plain": [
       "   amount  release_year  rental_rate  length  replacement_cost  NC-17  PG  \\\n",
       "0    2.99        2005.0         2.99   126.0             16.99      0   0   \n",
       "1    2.99        2005.0         2.99   126.0             16.99      0   0   \n",
       "2    2.99        2005.0         2.99   126.0             16.99      0   0   \n",
       "3    2.99        2005.0         2.99   126.0             16.99      0   0   \n",
       "4    2.99        2005.0         2.99   126.0             16.99      0   0   \n",
       "\n",
       "   PG-13  R  amount_2  length_2  rental_rate_2  rental_length_days  \\\n",
       "0      0  1    8.9401   15876.0         8.9401                   3   \n",
       "1      0  1    8.9401   15876.0         8.9401                   2   \n",
       "2      0  1    8.9401   15876.0         8.9401                   7   \n",
       "3      0  1    8.9401   15876.0         8.9401                   2   \n",
       "4      0  1    8.9401   15876.0         8.9401                   4   \n",
       "\n",
       "   deleted_scenes  behind_the_scene  \n",
       "0               0                 1  \n",
       "1               0                 1  \n",
       "2               0                 1  \n",
       "3               0                 1  \n",
       "4               0                 1  "
      ],
      "text/html": [
       "<div>\n",
       "<style scoped>\n",
       "    .dataframe tbody tr th:only-of-type {\n",
       "        vertical-align: middle;\n",
       "    }\n",
       "\n",
       "    .dataframe tbody tr th {\n",
       "        vertical-align: top;\n",
       "    }\n",
       "\n",
       "    .dataframe thead th {\n",
       "        text-align: right;\n",
       "    }\n",
       "</style>\n",
       "<table border=\"1\" class=\"dataframe\">\n",
       "  <thead>\n",
       "    <tr style=\"text-align: right;\">\n",
       "      <th></th>\n",
       "      <th>amount</th>\n",
       "      <th>release_year</th>\n",
       "      <th>rental_rate</th>\n",
       "      <th>length</th>\n",
       "      <th>replacement_cost</th>\n",
       "      <th>NC-17</th>\n",
       "      <th>PG</th>\n",
       "      <th>PG-13</th>\n",
       "      <th>R</th>\n",
       "      <th>amount_2</th>\n",
       "      <th>length_2</th>\n",
       "      <th>rental_rate_2</th>\n",
       "      <th>rental_length_days</th>\n",
       "      <th>deleted_scenes</th>\n",
       "      <th>behind_the_scene</th>\n",
       "    </tr>\n",
       "  </thead>\n",
       "  <tbody>\n",
       "    <tr>\n",
       "      <th>0</th>\n",
       "      <td>2.99</td>\n",
       "      <td>2005.0</td>\n",
       "      <td>2.99</td>\n",
       "      <td>126.0</td>\n",
       "      <td>16.99</td>\n",
       "      <td>0</td>\n",
       "      <td>0</td>\n",
       "      <td>0</td>\n",
       "      <td>1</td>\n",
       "      <td>8.9401</td>\n",
       "      <td>15876.0</td>\n",
       "      <td>8.9401</td>\n",
       "      <td>3</td>\n",
       "      <td>0</td>\n",
       "      <td>1</td>\n",
       "    </tr>\n",
       "    <tr>\n",
       "      <th>1</th>\n",
       "      <td>2.99</td>\n",
       "      <td>2005.0</td>\n",
       "      <td>2.99</td>\n",
       "      <td>126.0</td>\n",
       "      <td>16.99</td>\n",
       "      <td>0</td>\n",
       "      <td>0</td>\n",
       "      <td>0</td>\n",
       "      <td>1</td>\n",
       "      <td>8.9401</td>\n",
       "      <td>15876.0</td>\n",
       "      <td>8.9401</td>\n",
       "      <td>2</td>\n",
       "      <td>0</td>\n",
       "      <td>1</td>\n",
       "    </tr>\n",
       "    <tr>\n",
       "      <th>2</th>\n",
       "      <td>2.99</td>\n",
       "      <td>2005.0</td>\n",
       "      <td>2.99</td>\n",
       "      <td>126.0</td>\n",
       "      <td>16.99</td>\n",
       "      <td>0</td>\n",
       "      <td>0</td>\n",
       "      <td>0</td>\n",
       "      <td>1</td>\n",
       "      <td>8.9401</td>\n",
       "      <td>15876.0</td>\n",
       "      <td>8.9401</td>\n",
       "      <td>7</td>\n",
       "      <td>0</td>\n",
       "      <td>1</td>\n",
       "    </tr>\n",
       "    <tr>\n",
       "      <th>3</th>\n",
       "      <td>2.99</td>\n",
       "      <td>2005.0</td>\n",
       "      <td>2.99</td>\n",
       "      <td>126.0</td>\n",
       "      <td>16.99</td>\n",
       "      <td>0</td>\n",
       "      <td>0</td>\n",
       "      <td>0</td>\n",
       "      <td>1</td>\n",
       "      <td>8.9401</td>\n",
       "      <td>15876.0</td>\n",
       "      <td>8.9401</td>\n",
       "      <td>2</td>\n",
       "      <td>0</td>\n",
       "      <td>1</td>\n",
       "    </tr>\n",
       "    <tr>\n",
       "      <th>4</th>\n",
       "      <td>2.99</td>\n",
       "      <td>2005.0</td>\n",
       "      <td>2.99</td>\n",
       "      <td>126.0</td>\n",
       "      <td>16.99</td>\n",
       "      <td>0</td>\n",
       "      <td>0</td>\n",
       "      <td>0</td>\n",
       "      <td>1</td>\n",
       "      <td>8.9401</td>\n",
       "      <td>15876.0</td>\n",
       "      <td>8.9401</td>\n",
       "      <td>4</td>\n",
       "      <td>0</td>\n",
       "      <td>1</td>\n",
       "    </tr>\n",
       "  </tbody>\n",
       "</table>\n",
       "</div>"
      ]
     },
     "execution_count": 10,
     "metadata": {},
     "output_type": "execute_result"
    }
   ],
   "execution_count": 10
  },
  {
   "metadata": {},
   "cell_type": "markdown",
   "source": [
    "Feature Selection\n",
    "----"
   ],
   "id": "909b620b9e5c1678"
  },
  {
   "metadata": {
    "ExecuteTime": {
     "end_time": "2025-08-11T22:10:52.821344Z",
     "start_time": "2025-08-11T22:10:52.809029Z"
    }
   },
   "cell_type": "code",
   "source": [
    "X = rental_df.drop('rental_length_days', axis=1)\n",
    "y = rental_df['rental_length_days']"
   ],
   "id": "8c01ae2a40bf072",
   "outputs": [],
   "execution_count": 11
  },
  {
   "metadata": {},
   "cell_type": "markdown",
   "source": "Splitting Data",
   "id": "93106e91ff5ad212"
  },
  {
   "metadata": {
    "ExecuteTime": {
     "end_time": "2025-08-11T22:10:52.873599Z",
     "start_time": "2025-08-11T22:10:52.853862Z"
    }
   },
   "cell_type": "code",
   "source": "X_train, X_test, y_train, y_test = train_test_split(X,y, test_size=0.2, random_state=9)",
   "id": "8498f8f9314f1fd",
   "outputs": [],
   "execution_count": 12
  },
  {
   "metadata": {},
   "cell_type": "markdown",
   "source": "Perform feature selection using Lasso Regression.",
   "id": "23a974ae4d1d87b9"
  },
  {
   "metadata": {
    "ExecuteTime": {
     "end_time": "2025-08-11T22:10:53.249474Z",
     "start_time": "2025-08-11T22:10:52.890693Z"
    }
   },
   "cell_type": "code",
   "source": [
    "lasso = Lasso(alpha = 0.1, random_state=9)\n",
    "lasso.fit(X_train, y_train)\n",
    "\n",
    "lasso_coef = lasso.coef_\n",
    "X_train_laso = X_train.iloc[:, lasso_coef > 0]\n",
    "X_test_lasso = X_test.iloc[:, lasso_coef > 0]"
   ],
   "id": "bd9a40a4ac699603",
   "outputs": [],
   "execution_count": 13
  },
  {
   "metadata": {},
   "cell_type": "markdown",
   "source": [
    "Training & Evaluation\n",
    "----"
   ],
   "id": "f3ce7a0a54857457"
  },
  {
   "metadata": {},
   "cell_type": "markdown",
   "source": "Linear Regression",
   "id": "b455daa43f65e0ad"
  },
  {
   "metadata": {
    "ExecuteTime": {
     "end_time": "2025-08-11T22:11:10.677422Z",
     "start_time": "2025-08-11T22:11:10.662418Z"
    }
   },
   "cell_type": "code",
   "source": [
    "lr = LinearRegression()\n",
    "lr.fit(X_train_laso, y_train)\n",
    "y_pred_lr = lr.predict(X_test_lasso)\n",
    "MSE_lr = mean_squared_error(y_test, y_pred_lr)"
   ],
   "id": "33347e9264e6b922",
   "outputs": [],
   "execution_count": 16
  },
  {
   "metadata": {},
   "cell_type": "markdown",
   "source": "Decision Tree",
   "id": "8fab0601f988a551"
  },
  {
   "metadata": {
    "ExecuteTime": {
     "end_time": "2025-08-11T22:14:11.407111Z",
     "start_time": "2025-08-11T22:14:11.325265Z"
    }
   },
   "cell_type": "code",
   "source": [
    "dt = DecisionTreeRegressor(random_state=9)\n",
    "dt.fit(X_train, y_train)\n",
    "y_pred_dt = dt.predict(X_test)\n",
    "MSE_dt = mean_squared_error(y_test, y_pred_dt)"
   ],
   "id": "863af74ed173a968",
   "outputs": [],
   "execution_count": 17
  },
  {
   "metadata": {},
   "cell_type": "markdown",
   "source": "Random Forest",
   "id": "46960b6599c15f6d"
  },
  {
   "metadata": {
    "ExecuteTime": {
     "end_time": "2025-08-11T22:23:24.108236Z",
     "start_time": "2025-08-11T22:22:58.102307Z"
    }
   },
   "cell_type": "code",
   "source": [
    "param_dist = {'n_estimators':np.arange(1,101,1),\n",
    "              'max_depth':np.arange(1,11,1)}\n",
    "rf = RandomForestRegressor()\n",
    "rand_search = RandomizedSearchCV(rf,\n",
    "                                 param_distributions = param_dist,\n",
    "                                 cv = 5,\n",
    "                                 random_state=9)\n",
    "\n",
    "rand_search.fit(X_train, y_train)\n",
    "hyper_params = rand_search.best_params_"
   ],
   "id": "3128678e7924758d",
   "outputs": [],
   "execution_count": 18
  },
  {
   "metadata": {
    "ExecuteTime": {
     "end_time": "2025-08-11T22:26:34.816494Z",
     "start_time": "2025-08-11T22:26:33.336593Z"
    }
   },
   "cell_type": "code",
   "source": [
    "rf = RandomForestRegressor(n_estimators=hyper_params['n_estimators'],\n",
    "                           max_depth = hyper_params['max_depth'],\n",
    "                           random_state = 9)\n",
    "\n",
    "rf.fit(X_train, y_train)\n",
    "y_pred_rf = rf.predict(X_test)\n",
    "MSE_rf = mean_squared_error(y_test, y_pred_rf)"
   ],
   "id": "b1674bbdaea45cb8",
   "outputs": [],
   "execution_count": 19
  },
  {
   "metadata": {},
   "cell_type": "markdown",
   "source": [
    "Select the best model\n",
    "----"
   ],
   "id": "d102f9ecfbe4ac38"
  },
  {
   "metadata": {
    "ExecuteTime": {
     "end_time": "2025-08-11T22:31:32.925337Z",
     "start_time": "2025-08-11T22:31:32.905135Z"
    }
   },
   "cell_type": "code",
   "source": [
    "results = {\n",
    "    \"Linear Regression\": MSE_lr,\n",
    "    \"DecisionTree\": MSE_dt,\n",
    "    \"RandomForest\": MSE_rf\n",
    "}"
   ],
   "id": "61a04bcaeafe0175",
   "outputs": [],
   "execution_count": 20
  },
  {
   "metadata": {
    "ExecuteTime": {
     "end_time": "2025-08-11T22:31:35.521342Z",
     "start_time": "2025-08-11T22:31:35.490775Z"
    }
   },
   "cell_type": "code",
   "source": [
    "# Select best model\n",
    "best_model_name = min(results, key=results.get)\n",
    "best_model_mse = results[best_model_name]\n",
    "\n",
    "print(\"MSE Results:\", results)\n",
    "print(f\"Best Model: {best_model_name} with MSE = {best_model_mse}\")"
   ],
   "id": "34cf492e3edcdce8",
   "outputs": [
    {
     "name": "stdout",
     "output_type": "stream",
     "text": [
      "MSE Results: {'Linear Regression': 4.812297241276241, 'DecisionTree': 2.1675004952579413, 'RandomForest': 2.225667528098759}\n",
      "Best Model: DecisionTree with MSE = 2.1675004952579413\n"
     ]
    }
   ],
   "execution_count": 21
  },
  {
   "metadata": {},
   "cell_type": "code",
   "outputs": [],
   "execution_count": null,
   "source": "",
   "id": "8e62c00811074865"
  }
 ],
 "metadata": {
  "kernelspec": {
   "display_name": "Python 3",
   "language": "python",
   "name": "python3"
  },
  "language_info": {
   "codemirror_mode": {
    "name": "ipython",
    "version": 2
   },
   "file_extension": ".py",
   "mimetype": "text/x-python",
   "name": "python",
   "nbconvert_exporter": "python",
   "pygments_lexer": "ipython2",
   "version": "2.7.6"
  }
 },
 "nbformat": 4,
 "nbformat_minor": 5
}
